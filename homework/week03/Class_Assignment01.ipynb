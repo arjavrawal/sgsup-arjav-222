{
 "cells": [
  {
   "cell_type": "markdown",
   "id": "ea77e41f",
   "metadata": {},
   "source": [
    "# Exercise 1"
   ]
  },
  {
   "cell_type": "code",
   "execution_count": 4,
   "id": "ec1e6170",
   "metadata": {},
   "outputs": [
    {
     "name": "stdout",
     "output_type": "stream",
     "text": [
      "mango 0.5\n"
     ]
    }
   ],
   "source": [
    "favorite_fruit = 'mango'\n",
    "hours_spent_on_assignment = 0.5\n",
    "print(favorite_fruit, hours_spent_on_assignment)\n",
    "\n",
    "# This code prints my favorite fruit and the time I spent on this assignment in hours."
   ]
  },
  {
   "cell_type": "code",
   "execution_count": 6,
   "id": "03463bec",
   "metadata": {},
   "outputs": [
    {
     "name": "stdout",
     "output_type": "stream",
     "text": [
      "True\n"
     ]
    }
   ],
   "source": [
    "is_active = True\n",
    "print(is_active)"
   ]
  },
  {
   "cell_type": "code",
   "execution_count": 7,
   "id": "bcb5374d",
   "metadata": {},
   "outputs": [
    {
     "name": "stdout",
     "output_type": "stream",
     "text": [
      "I bought 5 bags of candy today.\n"
     ]
    }
   ],
   "source": [
    "bags_of_candy = 5\n",
    "print(\"I bought\", bags_of_candy, \"bags of candy today.\")"
   ]
  },
  {
   "cell_type": "markdown",
   "id": "0c8dc8f3",
   "metadata": {},
   "source": [
    "# Exercise 2"
   ]
  },
  {
   "cell_type": "code",
   "execution_count": 12,
   "id": "e0d7abdd",
   "metadata": {},
   "outputs": [
    {
     "name": "stdout",
     "output_type": "stream",
     "text": [
      "The population density of New York City is 10636.408522582293 people per square kilometer.\n",
      "Latitude: 40.7128 , Longitude: -74.006\n"
     ]
    }
   ],
   "source": [
    "lat = 40.7128\n",
    "lon = -74.0060\n",
    "population = 8336817\n",
    "sq_km = 783.8\n",
    "density = population / sq_km\n",
    "print(\"The population density of New York City is\", density, \"people per square kilometer.\")\n",
    "\n",
    "# Copilot automatically completed the print command for me.\n",
    "\n",
    "print(\"Latitude:\", lat, \", Longitude:\", lon)"
   ]
  },
  {
   "cell_type": "markdown",
   "id": "fd14a529",
   "metadata": {},
   "source": [
    "# Exercise 3"
   ]
  },
  {
   "cell_type": "code",
   "execution_count": 19,
   "id": "8f911451",
   "metadata": {},
   "outputs": [
    {
     "name": "stdout",
     "output_type": "stream",
     "text": [
      "Lowercase: new york city\n",
      "Uppercase: NEW YORK CITY\n",
      "Changed Name: Los Angeles\n"
     ]
    }
   ],
   "source": [
    "city_name = \"New York City\"\n",
    "lowercase = city_name.lower()\n",
    "uppercase = city_name.upper()\n",
    "print(\"Lowercase:\", lowercase)\n",
    "print(\"Uppercase:\", uppercase)\n",
    "change_name = city_name.replace(\"New York City\", \"Los Angeles\")\n",
    "print(\"Changed Name:\", change_name)\n",
    "\n",
    "# Copilot autocompleted the Lowercase and Uppercase print commands."
   ]
  }
 ],
 "metadata": {
  "kernelspec": {
   "display_name": "Python 3",
   "language": "python",
   "name": "python3"
  },
  "language_info": {
   "codemirror_mode": {
    "name": "ipython",
    "version": 3
   },
   "file_extension": ".py",
   "mimetype": "text/x-python",
   "name": "python",
   "nbconvert_exporter": "python",
   "pygments_lexer": "ipython3",
   "version": "3.13.5"
  }
 },
 "nbformat": 4,
 "nbformat_minor": 5
}
