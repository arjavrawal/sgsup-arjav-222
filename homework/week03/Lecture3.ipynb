{
 "cells": [
  {
   "cell_type": "code",
   "execution_count": 1,
   "id": "01097dad",
   "metadata": {},
   "outputs": [
    {
     "name": "stdout",
     "output_type": "stream",
     "text": [
      "120\n"
     ]
    }
   ],
   "source": [
    "num_points = 120\n",
    "print(num_points)\n",
    "#alternatively, you can just use num_points"
   ]
  },
  {
   "cell_type": "code",
   "execution_count": 2,
   "id": "fcba59bd",
   "metadata": {},
   "outputs": [
    {
     "name": "stdout",
     "output_type": "stream",
     "text": [
      "5\n",
      "John\n"
     ]
    }
   ],
   "source": [
    "x = 5\n",
    "y = \"John\"\n",
    "print(x)\n",
    "print(y)"
   ]
  },
  {
   "cell_type": "code",
   "execution_count": 3,
   "id": "49d4ea80",
   "metadata": {},
   "outputs": [
    {
     "name": "stdout",
     "output_type": "stream",
     "text": [
      "John\n"
     ]
    }
   ],
   "source": [
    "#String variables can be declared either by using single or double quotes:\n",
    "x = \"John\"\n",
    "# is the same as\n",
    "y = 'John'\n",
    "print(x)"
   ]
  },
  {
   "cell_type": "code",
   "execution_count": 4,
   "id": "456c1ba6",
   "metadata": {},
   "outputs": [
    {
     "name": "stdout",
     "output_type": "stream",
     "text": [
      "John\n"
     ]
    }
   ],
   "source": [
    "print(y)"
   ]
  },
  {
   "cell_type": "code",
   "execution_count": 5,
   "id": "43ab3b8a",
   "metadata": {},
   "outputs": [
    {
     "name": "stdout",
     "output_type": "stream",
     "text": [
      "[42.3601, -71.0589]\n"
     ]
    }
   ],
   "source": [
    "# start with a number\n",
    "location_data = 42.3601\n",
    "# change to text\n",
    "location_data = \"Boston\"\n",
    "# change to a list of coordinates\n",
    "location_data = [42.3601, -71.0589]\n",
    "print(location_data)"
   ]
  },
  {
   "cell_type": "code",
   "execution_count": null,
   "id": "32abcec8",
   "metadata": {},
   "outputs": [
    {
     "name": "stdout",
     "output_type": "stream",
     "text": [
      "John John [42.3601, -71.0589]\n"
     ]
    }
   ],
   "source": [
    "print(x,y,location_data)"
   ]
  },
  {
   "cell_type": "code",
   "execution_count": 7,
   "id": "5569cedf",
   "metadata": {},
   "outputs": [
    {
     "name": "stdout",
     "output_type": "stream",
     "text": [
      "Orange\n",
      "Banana\n",
      "Cherry\n",
      "Orange\n",
      "Orange\n",
      "Orange\n"
     ]
    }
   ],
   "source": [
    "x, y, z = \"Orange\", \"Banana\", \"Cherry\"\n",
    "print(x)\n",
    "print(y)\n",
    "print(z)\n",
    "\n",
    "c = d = e = \"Orange\"\n",
    "print(c)\n",
    "print(d)\n",
    "print(e)"
   ]
  },
  {
   "cell_type": "code",
   "execution_count": 11,
   "id": "c481f05b",
   "metadata": {},
   "outputs": [
    {
     "name": "stdout",
     "output_type": "stream",
     "text": [
      "42.3601 -71.0589 147.2 Boston 685094 WGS 84\n"
     ]
    }
   ],
   "source": [
    "# Good variable names for geospatial data\n",
    "latitude = 42.3601\n",
    "longitude = -71.0589\n",
    "elevation = 147.2\n",
    "city_name = \"Boston\"\n",
    "population = 685094\n",
    "coordinate_system = \"WGS 84\"\n",
    "print(latitude, longitude, elevation, city_name, population, coordinate_system)"
   ]
  },
  {
   "cell_type": "code",
   "execution_count": null,
   "id": "9cc349df",
   "metadata": {},
   "outputs": [],
   "source": [
    "num_features = 500\n",
    "# Represents the number of features in a dataset (this is an integer, whole numbers)\n",
    "latitude = 35.6895\n",
    "# Represents the latitude of a point on Earth's surface. These are floating points (numbers with a decimal point)\n",
    "longitude = 139.6917\n",
    "# Represents the longitude of a point on Earth's surface. These are floating points.\n",
    "is_georeferenced = True\n",
    "# Boolean variable indicating whether the dataset is georeferenced (True or False)\n",
    "coordinates = [\n",
    "    35.6895, \n",
    "    139.6917,\n",
    "    ]\n",
    "# A list variable containing the latitude and longitude of a point (these are floating points)"
   ]
  },
  {
   "cell_type": "code",
   "execution_count": 1,
   "id": "9a09bb23",
   "metadata": {},
   "outputs": [],
   "source": [
    "feature_attributes = {\n",
    "    \"name\": \"Mount Fuji\",\n",
    "    \"height_meters\": 3776,\n",
    "    \"type\": \"Stratovolcano\",\n",
    "    \"location\": [35.3606, 138.7274],\n",
    "}\n",
    "# A dictionary variable containing various attributes of a geographic feature (string, integer, string, list)"
   ]
  },
  {
   "cell_type": "code",
   "execution_count": 3,
   "id": "bb6f51ce",
   "metadata": {},
   "outputs": [
    {
     "name": "stdout",
     "output_type": "stream",
     "text": [
      "{'name': 'Mount Fuji', 'height_meters': 3776, 'type': 'Stratovolcano', 'location': [35.3606, 138.7274]}\n"
     ]
    }
   ],
   "source": [
    "print(feature_attributes)"
   ]
  },
  {
   "cell_type": "code",
   "execution_count": 5,
   "id": "026ad52f",
   "metadata": {},
   "outputs": [],
   "source": [
    "coordinate_system = \"WGS 84\"\n",
    "# Represents the coordinate system used in the dataset (this is a string, text)"
   ]
  },
  {
   "cell_type": "code",
   "execution_count": 7,
   "id": "61552b16",
   "metadata": {},
   "outputs": [],
   "source": [
    "new_england = \"\"\"New England is\n",
    "a region consisting of six states in the Northeastern United States:\n",
    "Maine, Vermont, New Hampshire, Massachusetts, Connecticut, and Rhode Island.\n",
    "It is known for its rich history, beautiful fall foliage, and coastal towns.\n",
    "Strings can be enclosed in single quotes, double quotes, or triple quotes. \n",
    "Use triple quotes for multi-line strings.\"\"\""
   ]
  },
  {
   "cell_type": "code",
   "execution_count": 8,
   "id": "fd269ec3",
   "metadata": {},
   "outputs": [
    {
     "data": {
      "text/plain": [
       "'WGS 84'"
      ]
     },
     "execution_count": 8,
     "metadata": {},
     "output_type": "execute_result"
    }
   ],
   "source": [
    "coordinate_system"
   ]
  },
  {
   "cell_type": "code",
   "execution_count": 9,
   "id": "e4cdbf4c",
   "metadata": {},
   "outputs": [],
   "source": [
    "# Data Types - Casting (if data is interchangeable, you can cast a data type into another.)"
   ]
  },
  {
   "cell_type": "code",
   "execution_count": 10,
   "id": "3ebd4b79",
   "metadata": {},
   "outputs": [
    {
     "name": "stdout",
     "output_type": "stream",
     "text": [
      "3 4 5.0\n"
     ]
    }
   ],
   "source": [
    "# Casting\n",
    "x = str (3)   # x will be '3'\n",
    "y = int (4.744)   # y will be integer 4\n",
    "z = float (5)   # z will be float 5\n",
    "print(x, y, z)"
   ]
  },
  {
   "cell_type": "code",
   "execution_count": 11,
   "id": "029b03ae",
   "metadata": {},
   "outputs": [
    {
     "name": "stdout",
     "output_type": "stream",
     "text": [
      "<class 'int'>\n",
      "<class 'str'>\n"
     ]
    }
   ],
   "source": [
    "# get the type\n",
    "x=6\n",
    "y=\"Kate\"\n",
    "print (type(x))\n",
    "print (type(y))"
   ]
  }
 ],
 "metadata": {
  "kernelspec": {
   "display_name": "Python 3",
   "language": "python",
   "name": "python3"
  },
  "language_info": {
   "codemirror_mode": {
    "name": "ipython",
    "version": 3
   },
   "file_extension": ".py",
   "mimetype": "text/x-python",
   "name": "python",
   "nbconvert_exporter": "python",
   "pygments_lexer": "ipython3",
   "version": "3.13.5"
  }
 },
 "nbformat": 4,
 "nbformat_minor": 5
}
