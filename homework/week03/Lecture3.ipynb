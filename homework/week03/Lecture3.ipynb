{
 "cells": [
  {
   "cell_type": "code",
   "execution_count": 19,
   "id": "01097dad",
   "metadata": {},
   "outputs": [
    {
     "name": "stdout",
     "output_type": "stream",
     "text": [
      "120\n"
     ]
    }
   ],
   "source": [
    "num_points = 120\n",
    "print(num_points)\n",
    "#alternatively, you can just use num_points"
   ]
  },
  {
   "cell_type": "code",
   "execution_count": 20,
   "id": "fcba59bd",
   "metadata": {},
   "outputs": [
    {
     "name": "stdout",
     "output_type": "stream",
     "text": [
      "5\n",
      "John\n"
     ]
    }
   ],
   "source": [
    "x = 5\n",
    "y = \"John\"\n",
    "print(x)\n",
    "print(y)"
   ]
  },
  {
   "cell_type": "code",
   "execution_count": 21,
   "id": "49d4ea80",
   "metadata": {},
   "outputs": [
    {
     "name": "stdout",
     "output_type": "stream",
     "text": [
      "John\n"
     ]
    }
   ],
   "source": [
    "#String variables can be declared either by using single or double quotes:\n",
    "x = \"John\"\n",
    "# is the same as\n",
    "y = 'John'\n",
    "print(x)"
   ]
  },
  {
   "cell_type": "code",
   "execution_count": 22,
   "id": "456c1ba6",
   "metadata": {},
   "outputs": [
    {
     "name": "stdout",
     "output_type": "stream",
     "text": [
      "John\n"
     ]
    }
   ],
   "source": [
    "print(y)"
   ]
  },
  {
   "cell_type": "code",
   "execution_count": 23,
   "id": "43ab3b8a",
   "metadata": {},
   "outputs": [
    {
     "name": "stdout",
     "output_type": "stream",
     "text": [
      "[42.3601, -71.0589]\n"
     ]
    }
   ],
   "source": [
    "# start with a number\n",
    "location_data = 42.3601\n",
    "# change to text\n",
    "location_data = \"Boston\"\n",
    "# change to a list of coordinates\n",
    "location_data = [42.3601, -71.0589]\n",
    "print(location_data)"
   ]
  },
  {
   "cell_type": "code",
   "execution_count": 24,
   "id": "32abcec8",
   "metadata": {},
   "outputs": [
    {
     "name": "stdout",
     "output_type": "stream",
     "text": [
      "John John [42.3601, -71.0589]\n"
     ]
    }
   ],
   "source": [
    "print(x,y,location_data)"
   ]
  },
  {
   "cell_type": "code",
   "execution_count": 25,
   "id": "5569cedf",
   "metadata": {},
   "outputs": [
    {
     "name": "stdout",
     "output_type": "stream",
     "text": [
      "Orange\n",
      "Banana\n",
      "Cherry\n",
      "Orange\n",
      "Orange\n",
      "Orange\n"
     ]
    }
   ],
   "source": [
    "x, y, z = \"Orange\", \"Banana\", \"Cherry\"\n",
    "print(x)\n",
    "print(y)\n",
    "print(z)\n",
    "\n",
    "c = d = e = \"Orange\"\n",
    "print(c)\n",
    "print(d)\n",
    "print(e)"
   ]
  },
  {
   "cell_type": "code",
   "execution_count": 17,
   "id": "c481f05b",
   "metadata": {},
   "outputs": [
    {
     "name": "stdout",
     "output_type": "stream",
     "text": [
      "42.3601 -71.0589 147.2 Boston 685094 WGS 84\n"
     ]
    }
   ],
   "source": [
    "# Good variable names for geospatial data\n",
    "latitude = 42.3601\n",
    "longitude = -71.0589\n",
    "elevation = 147.2\n",
    "city_name = \"Boston\"\n",
    "population = 685094\n",
    "coordinate_system = \"WGS 84\"\n",
    "print(latitude, longitude, elevation, city_name, population, coordinate_system)"
   ]
  },
  {
   "cell_type": "code",
   "execution_count": 16,
   "id": "9cc349df",
   "metadata": {},
   "outputs": [],
   "source": [
    "num_features = 500\n",
    "# Represents the number of features in a dataset (this is an integer, whole numbers)\n",
    "latitude = 35.6895\n",
    "# Represents the latitude of a point on Earth's surface. These are floating points (numbers with a decimal point)\n",
    "longitude = 139.6917\n",
    "# Represents the longitude of a point on Earth's surface. These are floating points.\n",
    "is_georeferenced = True\n",
    "# Boolean variable indicating whether the dataset is georeferenced (True or False)\n",
    "coordinates = [\n",
    "    35.6895, \n",
    "    139.6917,\n",
    "    ]\n",
    "# A list variable containing the latitude and longitude of a point (these are floating points)"
   ]
  },
  {
   "cell_type": "code",
   "execution_count": 1,
   "id": "9a09bb23",
   "metadata": {},
   "outputs": [],
   "source": [
    "feature_attributes = {\n",
    "    \"name\": \"Mount Fuji\",\n",
    "    \"height_meters\": 3776,\n",
    "    \"type\": \"Stratovolcano\",\n",
    "    \"location\": [35.3606, 138.7274],\n",
    "}\n",
    "# A dictionary variable containing various attributes of a geographic feature (string, integer, string, list)"
   ]
  },
  {
   "cell_type": "code",
   "execution_count": 3,
   "id": "bb6f51ce",
   "metadata": {},
   "outputs": [
    {
     "name": "stdout",
     "output_type": "stream",
     "text": [
      "{'name': 'Mount Fuji', 'height_meters': 3776, 'type': 'Stratovolcano', 'location': [35.3606, 138.7274]}\n"
     ]
    }
   ],
   "source": [
    "print(feature_attributes)"
   ]
  },
  {
   "cell_type": "code",
   "execution_count": 5,
   "id": "026ad52f",
   "metadata": {},
   "outputs": [],
   "source": [
    "coordinate_system = \"WGS 84\"\n",
    "# Represents the coordinate system used in the dataset (this is a string, text)"
   ]
  },
  {
   "cell_type": "code",
   "execution_count": 7,
   "id": "61552b16",
   "metadata": {},
   "outputs": [],
   "source": [
    "new_england = \"\"\"New England is\n",
    "a region consisting of six states in the Northeastern United States:\n",
    "Maine, Vermont, New Hampshire, Massachusetts, Connecticut, and Rhode Island.\n",
    "It is known for its rich history, beautiful fall foliage, and coastal towns.\n",
    "Strings can be enclosed in single quotes, double quotes, or triple quotes. \n",
    "Use triple quotes for multi-line strings.\"\"\""
   ]
  },
  {
   "cell_type": "code",
   "execution_count": 8,
   "id": "fd269ec3",
   "metadata": {},
   "outputs": [
    {
     "data": {
      "text/plain": [
       "'WGS 84'"
      ]
     },
     "execution_count": 8,
     "metadata": {},
     "output_type": "execute_result"
    }
   ],
   "source": [
    "coordinate_system"
   ]
  },
  {
   "cell_type": "code",
   "execution_count": 9,
   "id": "e4cdbf4c",
   "metadata": {},
   "outputs": [],
   "source": [
    "# Data Types - Casting (if data is interchangeable, you can cast a data type into another.)"
   ]
  },
  {
   "cell_type": "code",
   "execution_count": 10,
   "id": "3ebd4b79",
   "metadata": {},
   "outputs": [
    {
     "name": "stdout",
     "output_type": "stream",
     "text": [
      "3 4 5.0\n"
     ]
    }
   ],
   "source": [
    "# Casting\n",
    "x = str (3)   # x will be '3'\n",
    "y = int (4.744)   # y will be integer 4\n",
    "z = float (5)   # z will be float 5\n",
    "print(x, y, z)"
   ]
  },
  {
   "cell_type": "code",
   "execution_count": 11,
   "id": "029b03ae",
   "metadata": {},
   "outputs": [
    {
     "name": "stdout",
     "output_type": "stream",
     "text": [
      "<class 'int'>\n",
      "<class 'str'>\n"
     ]
    }
   ],
   "source": [
    "# get the type\n",
    "x=6\n",
    "y=\"Kate\"\n",
    "print (type(x))\n",
    "print (type(y))"
   ]
  },
  {
   "cell_type": "code",
   "execution_count": null,
   "id": "6cefc9dd",
   "metadata": {},
   "outputs": [
    {
     "name": "stdout",
     "output_type": "stream",
     "text": [
      "This is the first line. \n",
      "\tThis is the second line. It is indented\n"
     ]
    }
   ],
   "source": [
    "# Escape characters - insert characters that are illegal in a string\n",
    "print(\"This is the first line. \\n\\tThis is the second line. It is indented.\")"
   ]
  },
  {
   "cell_type": "code",
   "execution_count": 13,
   "id": "f0f0624d",
   "metadata": {},
   "outputs": [
    {
     "name": "stdout",
     "output_type": "stream",
     "text": [
      "What's your name?\n",
      "What's your name?\n"
     ]
    }
   ],
   "source": [
    "print('What\\'s your name?')\n",
    "print(\"What's your name?\")"
   ]
  },
  {
   "cell_type": "code",
   "execution_count": 14,
   "id": "70cb68c1",
   "metadata": {},
   "outputs": [
    {
     "name": "stdout",
     "output_type": "stream",
     "text": [
      "hello!\n"
     ]
    }
   ],
   "source": [
    "# Comments are used to explain the code and make it more readable. They're for users, not for developers. But sometimes they can help developers understand the code better.\n",
    "print('hello!') # in-line comment. everything after the # is ignored by Python."
   ]
  },
  {
   "cell_type": "code",
   "execution_count": 15,
   "id": "685db2f8",
   "metadata": {},
   "outputs": [
    {
     "name": "stdout",
     "output_type": "stream",
     "text": [
      "8\n"
     ]
    }
   ],
   "source": [
    "def add_numbers(a,b):\n",
    "    \"\"\"Adds two numbers and returns the result.\n",
    "    \n",
    "    Parameters:\n",
    "    \n",
    "    a (int or float): The first number to add.\n",
    "    b (int or float): The second number to add.\n",
    "    \n",
    "    Returns: int or float: The sum of a and b.\"\"\"\n",
    "    return a + b\n",
    "\n",
    "# Example usage\n",
    "result = add_numbers(5, 3)\n",
    "print(result)  # Output: 8"
   ]
  },
  {
   "cell_type": "code",
   "execution_count": 26,
   "id": "a062c68f",
   "metadata": {},
   "outputs": [
    {
     "name": "stdout",
     "output_type": "stream",
     "text": [
      "Updated number of features: 520\n"
     ]
    }
   ],
   "source": [
    "num_features += 20\n",
    "print(\"Updated number of features:\", num_features)"
   ]
  },
  {
   "cell_type": "code",
   "execution_count": 27,
   "id": "488d03e6",
   "metadata": {},
   "outputs": [
    {
     "name": "stdout",
     "output_type": "stream",
     "text": [
      "Latitude in radians: 0.6228992833905163\n"
     ]
    }
   ],
   "source": [
    "import math\n",
    "latitude = 35.6895\n",
    "latitude_radians = math.radians(latitude)\n",
    "print(\"Latitude in radians:\", latitude_radians)"
   ]
  },
  {
   "cell_type": "code",
   "execution_count": null,
   "id": "7d8f4056",
   "metadata": {},
   "outputs": [
    {
     "name": "stdout",
     "output_type": "stream",
     "text": [
      "Updated coordinates list: [35.6895, 139.6917, 34.0522, -118.2437]\n"
     ]
    }
   ],
   "source": [
    "# Adding new coordinates to the list using append() method\n",
    "\n",
    "coordinates = [35.6895, 139.6917]\n",
    "coordinates.append(34.0522) # Adding latitude for Los Angeles\n",
    "coordinates.append(-118.2437) # Adding longitude for Los Angeles\n",
    "print(\"Updated coordinates list:\", coordinates)"
   ]
  },
  {
   "cell_type": "code",
   "execution_count": 31,
   "id": "98e8da9d",
   "metadata": {},
   "outputs": [
    {
     "name": "stdout",
     "output_type": "stream",
     "text": [
      "Mount Fuji is 3776 meters tall.\n"
     ]
    }
   ],
   "source": [
    "# Accessing dictionary elements using the [] operator:\n",
    "mount_fuji_name = feature_attributes[\"name\"]\n",
    "mount_fuji_height = feature_attributes[\"height_meters\"]\n",
    "print(f\"{mount_fuji_name} is {mount_fuji_height} meters tall.\")"
   ]
  },
  {
   "cell_type": "markdown",
   "id": "e1d5b91f",
   "metadata": {},
   "source": [
    "# Exercise 1"
   ]
  },
  {
   "cell_type": "code",
   "execution_count": null,
   "id": "f4b0b5fc",
   "metadata": {},
   "outputs": [
    {
     "name": "stdout",
     "output_type": "stream",
     "text": [
      "Arjav 23\n"
     ]
    }
   ],
   "source": [
    "name=\"Arjav\"\n",
    "age=23\n",
    "print(name, age)\n",
    "\n",
    "# I am demonstrating my creativity by coming up with the most unique ideas for variables ever."
   ]
  },
  {
   "cell_type": "code",
   "execution_count": 5,
   "id": "2d0093ad",
   "metadata": {},
   "outputs": [
    {
     "name": "stdout",
     "output_type": "stream",
     "text": [
      "True\n"
     ]
    }
   ],
   "source": [
    "is_a_good_student = True\n",
    "print(is_a_good_student)"
   ]
  },
  {
   "cell_type": "code",
   "execution_count": 6,
   "id": "da2ba2d6",
   "metadata": {},
   "outputs": [
    {
     "name": "stdout",
     "output_type": "stream",
     "text": [
      "I bought 10 bags of candy today.\n"
     ]
    }
   ],
   "source": [
    "bags_of_candy = 10\n",
    "print(\"I bought\", bags_of_candy, \"bags of candy today.\")"
   ]
  },
  {
   "cell_type": "code",
   "execution_count": null,
   "id": "6cdc256a",
   "metadata": {},
   "outputs": [
    {
     "name": "stdout",
     "output_type": "stream",
     "text": [
      "City name in lowercase: san francisco\n",
      "City name in uppercase: SAN FRANCISCO\n",
      "City name in title case: San Francisco\n"
     ]
    }
   ],
   "source": [
    "city_name = \"San Francisco\"\n",
    "# convert to lowercase\n",
    "city_lowercase = city_name.lower()\n",
    "print(\"City name in lowercase:\", city_lowercase)\n",
    "# convert to uppercase\n",
    "city_uppercase = city_name.upper()\n",
    "print(\"City name in uppercase:\", city_uppercase)\n",
    "# convert to title case\n",
    "city_title = city_name.title()\n",
    "print(\"City name in title case:\", city_title)"
   ]
  },
  {
   "cell_type": "code",
   "execution_count": 8,
   "id": "feffb5a0",
   "metadata": {},
   "outputs": [
    {
     "name": "stdout",
     "output_type": "stream",
     "text": [
      "Original city: San Francisco\n",
      "New city: Los Francisco\n"
     ]
    }
   ],
   "source": [
    "# Substitute parts of a string with new text:\n",
    "original_city = \"San Francisco\"\n",
    "new_city = original_city.replace(\"San\", \"Los\")\n",
    "print(\"Original city:\", original_city)\n",
    "print(\"New city:\", new_city)"
   ]
  },
  {
   "cell_type": "code",
   "execution_count": 9,
   "id": "1e35db28",
   "metadata": {},
   "outputs": [
    {
     "name": "stdout",
     "output_type": "stream",
     "text": [
      "Original:  Mount Everest \n",
      "Cleaned: Mount Everest\n"
     ]
    }
   ],
   "source": [
    "location_data = \" Mount Everest \"\n",
    "# Remove whitespace from beginning and end\n",
    "clean_location = location_data.strip()\n",
    "print(\"Original:\", location_data)\n",
    "print(\"Cleaned:\", clean_location)"
   ]
  },
  {
   "cell_type": "code",
   "execution_count": 10,
   "id": "47d6aa45",
   "metadata": {},
   "outputs": [
    {
     "name": "stdout",
     "output_type": "stream",
     "text": [
      "Location: Mount Everest\n",
      "Coordinates: (27.9881, 86.925)\n",
      "Mount Everest is located at latitude 27.9881 and longitude 86.925, with an elevation of 8848 meters.\n"
     ]
    }
   ],
   "source": [
    "# F-string formatting - process of evaluating string that has placeholders. Prefixed with an f to denote that it is meant to be interpreted.\n",
    "# Basic f-string formatting with geographic data\n",
    "location = \"Mount Everest\"\n",
    "latitude = 27.9881\n",
    "longitude = 86.9250\n",
    "elevation = 8848  # in meters\n",
    "# Simple variable insertion\n",
    "location_info = f\"Location: {location}\"\n",
    "print(location_info)\n",
    "# Multiple variables\n",
    "coordinates = f\"Coordinates: ({latitude}, {longitude})\"\n",
    "print(coordinates)\n",
    "# Complete geographic summary\n",
    "summary = f\"{location} is located at latitude {latitude} and longitude {longitude}, with an elevation of {elevation} meters.\"\n",
    "print(summary)"
   ]
  },
  {
   "cell_type": "code",
   "execution_count": 12,
   "id": "74fd6937",
   "metadata": {},
   "outputs": [
    {
     "name": "stdout",
     "output_type": "stream",
     "text": [
      "Coordinates: (40.71, -74.01)\n",
      "Coordinates: (40.7128, -74.0060)\n",
      "NYC Population: 8,336,817, Area: 783.8 km^2\n"
     ]
    }
   ],
   "source": [
    "# f-strings can control how numbers are displayed\n",
    "\n",
    "# controlling decimal places for coordinates\n",
    "precise_lat = 40.712776\n",
    "precise_lon = -74.005974\n",
    "# Round to different decimal places\n",
    "coords_2_places = f\"Coordinates: ({precise_lat:.2f}, {precise_lon:.2f})\"\n",
    "coords_4_places = f\"Coordinates: ({precise_lat:.4f}, {precise_lon:.4f})\"\n",
    "print(coords_2_places)\n",
    "print(coords_4_places)\n",
    "# Adding thousands separators for large numbers\n",
    "population = 8336817\n",
    "area_sq_km = 783.8\n",
    "formatted_stats = f\"NYC Population: {population:,}, Area: {area_sq_km:,.1f} km^2\"\n",
    "print(formatted_stats)"
   ]
  },
  {
   "cell_type": "code",
   "execution_count": 13,
   "id": "f6bef9f5",
   "metadata": {},
   "outputs": [
    {
     "name": "stdout",
     "output_type": "stream",
     "text": [
      "File path: geographic_data/mountain_peaks.csv\n"
     ]
    }
   ],
   "source": [
    "# Concatenation - joining strings together using + operator\n",
    "# Useful for building location descriptions, file paths, or combining separate pieces of information.\n",
    "\n",
    "# Basic concatenation\n",
    "data_folder = \"geographic_data\"\n",
    "filename = \"mountain_peaks.csv\"\n",
    "file_path = data_folder + \"/\" + filename\n",
    "print(f\"File path: {file_path}\")"
   ]
  },
  {
   "cell_type": "code",
   "execution_count": 15,
   "id": "a4872539",
   "metadata": {},
   "outputs": [
    {
     "name": "stdout",
     "output_type": "stream",
     "text": [
      "------------------------------\n",
      "Geographic Data Report\n",
      "------------------------------\n",
      "Location:    Mount Everest\n",
      "Elevation:    8848 meters\n"
     ]
    }
   ],
   "source": [
    "# Repetition is done using the * operator\n",
    "\n",
    "location_name = \"Mount Everest\"\n",
    "# Create visual separators\n",
    "separator = \"-\" * 30\n",
    "print(separator)\n",
    "print(\"Geographic Data Report\")\n",
    "print(separator)\n",
    "# Create formatted spacing\n",
    "tab_space = \" \" * 4\n",
    "print(f\"Location:{tab_space}{location_name}\")\n",
    "print(f\"Elevation:{tab_space}8848 meters\")"
   ]
  },
  {
   "cell_type": "code",
   "execution_count": 16,
   "id": "547ee942",
   "metadata": {},
   "outputs": [
    {
     "name": "stdout",
     "output_type": "stream",
     "text": [
      "The location name 'Mount Everest' has 13 characters.\n"
     ]
    }
   ],
   "source": [
    "# Get the length of a string using len() function\n",
    "location_length = len(location_name)\n",
    "print(f\"The location name '{location_name}' has {location_length} characters.\")"
   ]
  },
  {
   "cell_type": "code",
   "execution_count": 17,
   "id": "49fcba9a",
   "metadata": {},
   "outputs": [
    {
     "name": "stdout",
     "output_type": "stream",
     "text": [
      "Is 'SanFrancisco' alphabetic? True\n",
      "Is '94102' numeric? True\n"
     ]
    }
   ],
   "source": [
    "# Check if a string contains only letters or digits\n",
    "\n",
    "city_name = \"SanFrancisco\"\n",
    "print(f\"Is '{city_name}' alphabetic?\", city_name.isalpha())\n",
    "# Check if a string contains only digits\n",
    "zip_code = \"94102\"\n",
    "print(f\"Is '{zip_code}' numeric?\", zip_code.isdigit())"
   ]
  },
  {
   "cell_type": "code",
   "execution_count": null,
   "id": "5b9bc45b",
   "metadata": {},
   "outputs": [],
   "source": [
    "nyc_latitude = 40.7128\n",
    "nyc_longitude = -74.0060\n",
    "nyc_population = 8336817\n",
    "nyc_area_sq_km = 783.8"
   ]
  }
 ],
 "metadata": {
  "kernelspec": {
   "display_name": "Python 3",
   "language": "python",
   "name": "python3"
  },
  "language_info": {
   "codemirror_mode": {
    "name": "ipython",
    "version": 3
   },
   "file_extension": ".py",
   "mimetype": "text/x-python",
   "name": "python",
   "nbconvert_exporter": "python",
   "pygments_lexer": "ipython3",
   "version": "3.13.5"
  }
 },
 "nbformat": 4,
 "nbformat_minor": 5
}
