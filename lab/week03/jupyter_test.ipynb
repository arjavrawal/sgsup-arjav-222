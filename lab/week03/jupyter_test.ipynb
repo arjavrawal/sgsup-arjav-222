{
 "cells": [
  {
   "cell_type": "code",
   "execution_count": 1,
   "id": "a522f3a7",
   "metadata": {},
   "outputs": [
    {
     "name": "stdout",
     "output_type": "stream",
     "text": [
      "3.11.11 (main, Mar  3 2025, 15:29:37) [MSC v.1938 64 bit (AMD64)]\n",
      "c:\\Users\\arjav\\AppData\\Local\\ESRI\\conda\\envs\\gis222venv\\python.exe\n"
     ]
    }
   ],
   "source": [
    "import sys\n",
    "print(sys.version)\n",
    "print(sys.executable)"
   ]
  },
  {
   "cell_type": "code",
   "execution_count": 3,
   "id": "51097382",
   "metadata": {},
   "outputs": [],
   "source": [
    "def greet (who_to_greet):\n",
    "    greeting = \"Hello, {}\".format(who_to_greet)\n",
    "    return greeting"
   ]
  },
  {
   "cell_type": "code",
   "execution_count": 9,
   "id": "0c792e56",
   "metadata": {},
   "outputs": [
    {
     "name": "stdout",
     "output_type": "stream",
     "text": [
      "Hello, His Excellency, President for Life, Field Marshal Al Hadji Doctor Idi Amin Dada, VC, DSO, MC, CBE, Lord of All the Beasts of the Earth and Fishes of the Seas and Conqueror of the British Empire in Africa in General and Uganda in Particular\n"
     ]
    }
   ],
   "source": [
    "print (greet(\"His Excellency, President for Life, Field Marshal Al Hadji Doctor Idi Amin Dada, VC, DSO, MC, CBE, Lord of All the Beasts of the Earth and Fishes of the Seas and Conqueror of the British Empire in Africa in General and Uganda in Particular\"))"
   ]
  },
  {
   "cell_type": "code",
   "execution_count": null,
   "id": "40da5804",
   "metadata": {},
   "outputs": [],
   "source": []
  }
 ],
 "metadata": {
  "kernelspec": {
   "display_name": "gis222venv",
   "language": "python",
   "name": "python3"
  },
  "language_info": {
   "codemirror_mode": {
    "name": "ipython",
    "version": 3
   },
   "file_extension": ".py",
   "mimetype": "text/x-python",
   "name": "python",
   "nbconvert_exporter": "python",
   "pygments_lexer": "ipython3",
   "version": "3.11.11"
  }
 },
 "nbformat": 4,
 "nbformat_minor": 5
}
